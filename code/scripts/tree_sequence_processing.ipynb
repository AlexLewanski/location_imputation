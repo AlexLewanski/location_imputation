{
 "cells": [
  {
   "cell_type": "code",
   "execution_count": 21,
   "id": "883984c0",
   "metadata": {},
   "outputs": [],
   "source": [
    "import tskit\n",
    "import msprime\n",
    "import numpy as np\n",
    "import pyslim\n",
    "import networkx as nx\n",
    "from IPython.display import SVG\n",
    "import math"
   ]
  },
  {
   "cell_type": "code",
   "execution_count": 4,
   "id": "24409658",
   "metadata": {},
   "outputs": [],
   "source": [
    "# Mike's function for calculating effective dispersal rate from a tree sequence\n",
    "def effective_dispersal(ts, max_edge_length=math.inf):\n",
    "    \"\"\"\n",
    "    Returns the mean standardized squared distance (in x and y) between all\n",
    "    parent-child relationships in the recorded tree sequence separated\n",
    "    by a time interval less than or equal to `max_edge_length`. This is an\n",
    "    estimator for the variance of a Gaussian dispersal kernel.\n",
    "    \"\"\"\n",
    "    assert type(ts) == tskit.trees.TreeSequence\n",
    "    nx = ny = 0\n",
    "    mx = my = 0\n",
    "    for edge in ts.edges():\n",
    "        parent_id = edge.parent\n",
    "        child_id = edge.child\n",
    "        edge_length = ts.node(parent_id).time - ts.node(child_id).time\n",
    "        if edge_length <= max_edge_length:\n",
    "            parent_individual_id = ts.node(parent_id).individual\n",
    "            child_individual_id = ts.node(child_id).individual\n",
    "            if parent_individual_id and child_individual_id:\n",
    "                parent_loc = ts.individual(parent_individual_id).location\n",
    "                child_loc = ts.individual(child_individual_id).location\n",
    "                if len(parent_loc) >= 2 and len(child_loc) >= 2:\n",
    "                    dx = (parent_loc[0] - child_loc[0]) / math.sqrt(edge_length)\n",
    "                    dy = (parent_loc[1] - child_loc[1]) / math.sqrt(edge_length)\n",
    "                    if nx:\n",
    "                        nx += 1\n",
    "                        mx += (dx*dx - mx) / nx\n",
    "                    else:\n",
    "                        nx = 1\n",
    "                        mx = dx*dx\n",
    "                    if ny:\n",
    "                        ny += 1\n",
    "                        my += (dy*dy - my) / ny\n",
    "                    else:\n",
    "                        ny = 1\n",
    "                        my = dy*dy\n",
    "    return [mx, my]\n",
    "\n",
    "def min(a, b):\n",
    "     \n",
    "    if a <= b:\n",
    "        return a\n",
    "    else:\n",
    "        return b"
   ]
  },
  {
   "cell_type": "code",
   "execution_count": 35,
   "id": "b05829b5",
   "metadata": {},
   "outputs": [],
   "source": [
    "### PROCESSING VARIABLES ###\n",
    "tree_separation = 50\n",
    "\n",
    "ts_upload_path = '/Users/alexlewanski/Documents/michigan_state/research/location_imputation/simulation_output/'\n",
    "output_file_path = '/Users/alexlewanski/Documents/michigan_state/research/location_imputation/simulation_output/'\n",
    "output_tree_path = '/Users/alexlewanski/Documents/michigan_state/research/location_imputation/simulation_output/tree_dir/'"
   ]
  },
  {
   "cell_type": "code",
   "execution_count": 36,
   "id": "f5d8562e",
   "metadata": {},
   "outputs": [],
   "source": [
    "### LOAD, RECAPITATE, AND SIMPLIFY TREE SEQUENCE ### \n",
    "spatial_ts = tskit.load(ts_upload_path + \"example_sim.trees\")\n",
    "\n",
    "\n",
    "spatial_ts1 = pyslim.recapitate(\n",
    "    spatial_ts,\n",
    "    recombination_rate = 1e-8,\n",
    "    ancestral_Ne=500,\n",
    "    random_seed=71110)\n",
    "\n",
    "spatial_ts2 = spatial_ts1.simplify()"
   ]
  },
  {
   "cell_type": "code",
   "execution_count": 37,
   "id": "e172d4b9",
   "metadata": {},
   "outputs": [
    {
     "data": {
      "text/plain": [
       "'\\nindivs_in_sampled_locs = [\\n    INDIV for INDIV in sample_indiv_array\\n    if (\\n        (0 <= spatial_ts2.individual(INDIV).location[0] <= 15 and 5 <= spatial_ts2.individual(INDIV).location[1] <= 25)\\n        or\\n        (45 <= spatial_ts2.individual(INDIV).location[0] <= 60 and 45 <= spatial_ts2.individual(INDIV).location[1] <= 60)\\n        or\\n        (80 <= spatial_ts2.individual(INDIV).location[0] <= 95 and 7 <= spatial_ts2.individual(INDIV).location[1] <= 18)\\n        or\\n        (35 <= spatial_ts2.individual(INDIV).location[0] <= 45 and 68 <= spatial_ts2.individual(INDIV).location[1] <= 75)\\n        or\\n        (0 <= spatial_ts2.individual(INDIV).location[0] <= 15 and 70 <= spatial_ts2.individual(INDIV).location[1] <= 85)\\n        or\\n        (60 <= spatial_ts2.individual(INDIV).location[0] <= 80 and 90 <= spatial_ts2.individual(INDIV).location[1] <= 100)\\n    )\\n]\\n\\n\\nindivs_in_sampled_locs_subsample = np.random.choice(indivs_in_sampled_locs, size=80, replace=False)\\n\\nextra_indivs = np.random.choice(sample_indiv_array, size=8, replace=False)\\n\\ncombined = np.unique(np.concatenate((indivs_in_sampled_locs_subsample, extra_indivs)))\\n\\nsubsamp_node_list = [spatial_ts2.individual(x).nodes for x in combined]\\n\\nspatial_ts2_reduced = spatial_ts2.simplify(np.concatenate(subsamp_node_list))\\n'"
      ]
     },
     "execution_count": 37,
     "metadata": {},
     "output_type": "execute_result"
    }
   ],
   "source": [
    "sample_indiv_array = np.unique(spatial_ts2.nodes_individual[np.where(spatial_ts2.nodes_flags == 1)])\n",
    "\n",
    "subsample_sample = np.random.choice(sample_indiv_array, size=80, replace=False)\n",
    "subsamp_node_list = [spatial_ts2.individual(x).nodes for x in subsample_sample]\n",
    "spatial_ts2_reduced = spatial_ts2.simplify(np.concatenate(subsamp_node_list))\n",
    "\n",
    "\n",
    "#example of clustered sampling\n",
    "'''\n",
    "indivs_in_sampled_locs = [\n",
    "    INDIV for INDIV in sample_indiv_array\n",
    "    if (\n",
    "        (0 <= spatial_ts2.individual(INDIV).location[0] <= 15 and 5 <= spatial_ts2.individual(INDIV).location[1] <= 25)\n",
    "        or\n",
    "        (45 <= spatial_ts2.individual(INDIV).location[0] <= 60 and 45 <= spatial_ts2.individual(INDIV).location[1] <= 60)\n",
    "        or\n",
    "        (80 <= spatial_ts2.individual(INDIV).location[0] <= 95 and 7 <= spatial_ts2.individual(INDIV).location[1] <= 18)\n",
    "        or\n",
    "        (35 <= spatial_ts2.individual(INDIV).location[0] <= 45 and 68 <= spatial_ts2.individual(INDIV).location[1] <= 75)\n",
    "        or\n",
    "        (0 <= spatial_ts2.individual(INDIV).location[0] <= 15 and 70 <= spatial_ts2.individual(INDIV).location[1] <= 85)\n",
    "        or\n",
    "        (60 <= spatial_ts2.individual(INDIV).location[0] <= 80 and 90 <= spatial_ts2.individual(INDIV).location[1] <= 100)\n",
    "    )\n",
    "]\n",
    "\n",
    "\n",
    "indivs_in_sampled_locs_subsample = np.random.choice(indivs_in_sampled_locs, size=80, replace=False)\n",
    "\n",
    "extra_indivs = np.random.choice(sample_indiv_array, size=8, replace=False)\n",
    "\n",
    "combined = np.unique(np.concatenate((indivs_in_sampled_locs_subsample, extra_indivs)))\n",
    "\n",
    "subsamp_node_list = [spatial_ts2.individual(x).nodes for x in combined]\n",
    "\n",
    "spatial_ts2_reduced = spatial_ts2.simplify(np.concatenate(subsamp_node_list))\n",
    "'''"
   ]
  },
  {
   "cell_type": "code",
   "execution_count": 38,
   "id": "2c71434f",
   "metadata": {},
   "outputs": [],
   "source": [
    "### EXTRACTING INFO ABOUT INDIVIDUALS (COORDINATES AND NODES ASSOCIATED WITH EACH INDIV) ###\n",
    "sample_list_rename = np.unique(spatial_ts2_reduced.nodes_individual[np.where(spatial_ts2_reduced.nodes_flags == 1)])\n",
    "\n",
    "indiv_list = []\n",
    "node_list = []\n",
    "x_list = []\n",
    "y_list = []\n",
    "\n",
    "for INDIV in sample_list_rename:\n",
    "    for NODE in spatial_ts2_reduced.individual(INDIV).nodes:\n",
    "        indiv_list.append(INDIV)\n",
    "        node_list.append(NODE)\n",
    "        x_list.append(spatial_ts2_reduced.individual(INDIV).location[0])\n",
    "        y_list.append(spatial_ts2_reduced.individual(INDIV).location[1])\n",
    "\n",
    "column_names = ['indiv', 'node', 'x', 'y']\n",
    "\n",
    "with open(output_file_path + 'indiv_node_info.txt', 'w') as file:\n",
    "    # Write the rows, aligning each list as a column\n",
    "    file.write(\"\\t\".join(column_names) + \"\\n\")\n",
    "    for i,x in enumerate(indiv_list):\n",
    "            row = f\"{indiv_list[i]}\\t{node_list[i]}\\t{x_list[i]}\\t{y_list[i]}\\n\"\n",
    "            file.write(row)"
   ]
  },
  {
   "cell_type": "code",
   "execution_count": 39,
   "id": "6eced819",
   "metadata": {},
   "outputs": [],
   "source": [
    "### EXTRACTING INFO ABOUT THE TREES (COORDINATES OF ROOT AND GENOME SPAN) ###\n",
    "tree_index_list = []\n",
    "tree_position_list = []\n",
    "node_list = []\n",
    "x_list = []\n",
    "y_list = []\n",
    "span_list = []\n",
    "\n",
    "for i,tree_pos in enumerate(range(0, spatial_ts2_reduced.num_trees, tree_separation)):\n",
    "    tree_index_list.append(i)\n",
    "    tree_position_list.append(tree_pos)\n",
    "    x_list.append(spatial_ts2_reduced.individual(spatial_ts2_reduced.node(spatial_ts2_reduced.at_index(tree_pos).root).individual).location[0])\n",
    "    y_list.append(spatial_ts2_reduced.individual(spatial_ts2_reduced.node(spatial_ts2_reduced.at_index(tree_pos).root).individual).location[1])\n",
    "    node_list.append(spatial_ts2_reduced.node(spatial_ts2_reduced.at_index(tree_pos).root).id)\n",
    "    span_list.append(spatial_ts2_reduced.at_index(tree_pos).span)\n",
    "    \n",
    "column_names = ['tree_index', 'tree_position', 'node', 'x', 'y', 'span']\n",
    "\n",
    "\n",
    "\n",
    "with open(output_file_path + 'tree_position_info.txt', 'w') as file:\n",
    "    # Write the rows, aligning each list as a column\n",
    "    file.write(\"\\t\".join(column_names) + \"\\n\")\n",
    "    for i,x in enumerate(tree_index_list):\n",
    "            row = f\"{tree_index_list[i]}\\t{tree_position_list[i]}\\t{node_list[i]}\\t{x_list[i]}\\t{y_list[i]}\\t{span_list[i]}\\n\"\n",
    "            file.write(row)\n"
   ]
  },
  {
   "cell_type": "code",
   "execution_count": 41,
   "id": "e23aac30",
   "metadata": {},
   "outputs": [],
   "source": [
    "### OUTPUTTING TREES AS NEWICKS ###\n",
    "for TREE in range(0, spatial_ts2_reduced.num_trees, tree_separation):\n",
    "    with open(output_tree_path +  \"spatial_sim_test_newick\" + str(TREE) + \".nwk\", \"w\") as f:\n",
    "        f.write(spatial_ts2_reduced.at_index(TREE).as_newick())\n",
    "        #print('exported' + str(TREE))"
   ]
  },
  {
   "cell_type": "code",
   "execution_count": 29,
   "id": "aac16a14",
   "metadata": {},
   "outputs": [
    {
     "data": {
      "text/plain": [
       "[4.054292124406332, 4.0762866116524155]"
      ]
     },
     "execution_count": 29,
     "metadata": {},
     "output_type": "execute_result"
    }
   ],
   "source": [
    "effective_dispersal(spatial_ts2_reduced, max_edge_length=2500)"
   ]
  }
 ],
 "metadata": {
  "kernelspec": {
   "display_name": "Python 3 (ipykernel)",
   "language": "python",
   "name": "python3"
  },
  "language_info": {
   "codemirror_mode": {
    "name": "ipython",
    "version": 3
   },
   "file_extension": ".py",
   "mimetype": "text/x-python",
   "name": "python",
   "nbconvert_exporter": "python",
   "pygments_lexer": "ipython3",
   "version": "3.11.2"
  }
 },
 "nbformat": 4,
 "nbformat_minor": 5
}
